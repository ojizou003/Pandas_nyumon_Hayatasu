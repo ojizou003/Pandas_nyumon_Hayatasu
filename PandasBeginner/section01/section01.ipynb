{
 "cells": [
  {
   "cell_type": "markdown",
   "metadata": {},
   "source": [
    "# 第1回 | Pandasとは？Pandasを学習すべき3つの理由\n",
    "\n",
    "動画内で使った画像を作成するためのNotebookです！"
   ]
  },
  {
   "cell_type": "code",
   "execution_count": 3,
   "metadata": {},
   "outputs": [
    {
     "name": "stdout",
     "output_type": "stream",
     "text": [
      "Collecting pandas\n",
      "  Obtaining dependency information for pandas from https://files.pythonhosted.org/packages/2d/5e/9213ea10ac473e2437dc2cb17323ddc0999997e2713d6a0b683b10773994/pandas-2.1.1-cp311-cp311-win_amd64.whl.metadata\n",
      "  Downloading pandas-2.1.1-cp311-cp311-win_amd64.whl.metadata (18 kB)\n",
      "Collecting numpy>=1.23.2 (from pandas)\n",
      "  Obtaining dependency information for numpy>=1.23.2 from https://files.pythonhosted.org/packages/93/fd/3f826c6d15d3bdcf65b8031e4835c52b7d9c45add25efa2314b53850e1a2/numpy-1.26.0-cp311-cp311-win_amd64.whl.metadata\n",
      "  Using cached numpy-1.26.0-cp311-cp311-win_amd64.whl.metadata (61 kB)\n",
      "Requirement already satisfied: python-dateutil>=2.8.2 in c:\\users\\sinis\\anaconda3\\envs\\henv\\lib\\site-packages (from pandas) (2.8.2)\n",
      "Collecting pytz>=2020.1 (from pandas)\n",
      "  Obtaining dependency information for pytz>=2020.1 from https://files.pythonhosted.org/packages/32/4d/aaf7eff5deb402fd9a24a1449a8119f00d74ae9c2efa79f8ef9994261fc2/pytz-2023.3.post1-py2.py3-none-any.whl.metadata\n",
      "  Downloading pytz-2023.3.post1-py2.py3-none-any.whl.metadata (22 kB)\n",
      "Collecting tzdata>=2022.1 (from pandas)\n",
      "  Using cached tzdata-2023.3-py2.py3-none-any.whl (341 kB)\n",
      "Requirement already satisfied: six>=1.5 in c:\\users\\sinis\\anaconda3\\envs\\henv\\lib\\site-packages (from python-dateutil>=2.8.2->pandas) (1.16.0)\n",
      "Downloading pandas-2.1.1-cp311-cp311-win_amd64.whl (10.6 MB)\n",
      "   ---------------------------------------- 0.0/10.6 MB ? eta -:--:--\n",
      "    --------------------------------------- 0.2/10.6 MB 4.6 MB/s eta 0:00:03\n",
      "   -- ------------------------------------- 0.6/10.6 MB 8.1 MB/s eta 0:00:02\n",
      "   ---- ----------------------------------- 1.2/10.6 MB 9.4 MB/s eta 0:00:02\n",
      "   ------ --------------------------------- 1.7/10.6 MB 10.1 MB/s eta 0:00:01\n",
      "   ------- -------------------------------- 2.0/10.6 MB 9.9 MB/s eta 0:00:01\n",
      "   --------- ------------------------------ 2.4/10.6 MB 9.1 MB/s eta 0:00:01\n",
      "   ----------- ---------------------------- 3.1/10.6 MB 9.9 MB/s eta 0:00:01\n",
      "   ------------- -------------------------- 3.5/10.6 MB 10.3 MB/s eta 0:00:01\n",
      "   --------------- ------------------------ 4.0/10.6 MB 10.3 MB/s eta 0:00:01\n",
      "   ----------------- ---------------------- 4.6/10.6 MB 10.5 MB/s eta 0:00:01\n",
      "   ------------------- -------------------- 5.2/10.6 MB 10.6 MB/s eta 0:00:01\n",
      "   --------------------- ------------------ 5.7/10.6 MB 10.7 MB/s eta 0:00:01\n",
      "   ----------------------- ---------------- 6.2/10.6 MB 10.8 MB/s eta 0:00:01\n",
      "   ------------------------- -------------- 6.8/10.6 MB 11.1 MB/s eta 0:00:01\n",
      "   --------------------------- ------------ 7.3/10.6 MB 11.2 MB/s eta 0:00:01\n",
      "   ----------------------------- ---------- 7.9/10.6 MB 11.2 MB/s eta 0:00:01\n",
      "   ------------------------------- -------- 8.4/10.6 MB 11.2 MB/s eta 0:00:01\n",
      "   --------------------------------- ------ 9.0/10.6 MB 11.2 MB/s eta 0:00:01\n",
      "   ----------------------------------- ---- 9.5/10.6 MB 11.2 MB/s eta 0:00:01\n",
      "   ------------------------------------- -- 10.1/10.6 MB 11.3 MB/s eta 0:00:01\n",
      "   ---------------------------------------  10.6/10.6 MB 11.5 MB/s eta 0:00:01\n",
      "   ---------------------------------------  10.6/10.6 MB 11.3 MB/s eta 0:00:01\n",
      "   ---------------------------------------- 10.6/10.6 MB 10.7 MB/s eta 0:00:00\n",
      "Using cached numpy-1.26.0-cp311-cp311-win_amd64.whl (15.8 MB)\n",
      "Downloading pytz-2023.3.post1-py2.py3-none-any.whl (502 kB)\n",
      "   ---------------------------------------- 0.0/502.5 kB ? eta -:--:--\n",
      "   ------------------------------------- - 481.3/502.5 kB 15.2 MB/s eta 0:00:01\n",
      "   ---------------------------------------- 502.5/502.5 kB 7.8 MB/s eta 0:00:00\n",
      "Installing collected packages: pytz, tzdata, numpy, pandas\n",
      "Successfully installed numpy-1.26.0 pandas-2.1.1 pytz-2023.3.post1 tzdata-2023.3\n"
     ]
    }
   ],
   "source": [
    "! pip install pandas"
   ]
  },
  {
   "cell_type": "code",
   "execution_count": 4,
   "metadata": {},
   "outputs": [],
   "source": [
    "import pandas as pd\n",
    "import numpy as np"
   ]
  },
  {
   "cell_type": "code",
   "execution_count": 9,
   "metadata": {},
   "outputs": [
    {
     "data": {
      "text/html": [
       "<div>\n",
       "<style scoped>\n",
       "    .dataframe tbody tr th:only-of-type {\n",
       "        vertical-align: middle;\n",
       "    }\n",
       "\n",
       "    .dataframe tbody tr th {\n",
       "        vertical-align: top;\n",
       "    }\n",
       "\n",
       "    .dataframe thead th {\n",
       "        text-align: right;\n",
       "    }\n",
       "</style>\n",
       "<table border=\"1\" class=\"dataframe\">\n",
       "  <thead>\n",
       "    <tr style=\"text-align: right;\">\n",
       "      <th></th>\n",
       "      <th>A</th>\n",
       "      <th>B</th>\n",
       "      <th>C</th>\n",
       "    </tr>\n",
       "  </thead>\n",
       "  <tbody>\n",
       "    <tr>\n",
       "      <th>0</th>\n",
       "      <td>-1.362674</td>\n",
       "      <td>0.453836</td>\n",
       "      <td>0.803742</td>\n",
       "    </tr>\n",
       "    <tr>\n",
       "      <th>1</th>\n",
       "      <td>-1.569892</td>\n",
       "      <td>2.553094</td>\n",
       "      <td>-0.496191</td>\n",
       "    </tr>\n",
       "    <tr>\n",
       "      <th>2</th>\n",
       "      <td>-0.410208</td>\n",
       "      <td>0.572973</td>\n",
       "      <td>0.602874</td>\n",
       "    </tr>\n",
       "    <tr>\n",
       "      <th>3</th>\n",
       "      <td>1.663389</td>\n",
       "      <td>0.481040</td>\n",
       "      <td>1.242573</td>\n",
       "    </tr>\n",
       "    <tr>\n",
       "      <th>4</th>\n",
       "      <td>-1.302026</td>\n",
       "      <td>0.540965</td>\n",
       "      <td>0.044082</td>\n",
       "    </tr>\n",
       "  </tbody>\n",
       "</table>\n",
       "</div>"
      ],
      "text/plain": [
       "          A         B         C\n",
       "0 -1.362674  0.453836  0.803742\n",
       "1 -1.569892  2.553094 -0.496191\n",
       "2 -0.410208  0.572973  0.602874\n",
       "3  1.663389  0.481040  1.242573\n",
       "4 -1.302026  0.540965  0.044082"
      ]
     },
     "execution_count": 9,
     "metadata": {},
     "output_type": "execute_result"
    }
   ],
   "source": [
    "pd.DataFrame({\n",
    "    'A': np.random.normal(size=5),\n",
    "    'B': np.random.normal(size=5),\n",
    "    'C': np.random.normal(size=5)}\n",
    ")"
   ]
  },
  {
   "cell_type": "code",
   "execution_count": null,
   "metadata": {},
   "outputs": [],
   "source": []
  }
 ],
 "metadata": {
  "kernelspec": {
   "display_name": "Python 3 (ipykernel)",
   "language": "python",
   "name": "python3"
  },
  "language_info": {
   "codemirror_mode": {
    "name": "ipython",
    "version": 3
   },
   "file_extension": ".py",
   "mimetype": "text/x-python",
   "name": "python",
   "nbconvert_exporter": "python",
   "pygments_lexer": "ipython3",
   "version": "3.11.5"
  },
  "toc": {
   "base_numbering": 1,
   "nav_menu": {},
   "number_sections": true,
   "sideBar": true,
   "skip_h1_title": false,
   "title_cell": "Table of Contents",
   "title_sidebar": "Contents",
   "toc_cell": false,
   "toc_position": {},
   "toc_section_display": true,
   "toc_window_display": true
  },
  "varInspector": {
   "cols": {
    "lenName": 16,
    "lenType": 16,
    "lenVar": 40
   },
   "kernels_config": {
    "python": {
     "delete_cmd_postfix": "",
     "delete_cmd_prefix": "del ",
     "library": "var_list.py",
     "varRefreshCmd": "print(var_dic_list())"
    },
    "r": {
     "delete_cmd_postfix": ") ",
     "delete_cmd_prefix": "rm(",
     "library": "var_list.r",
     "varRefreshCmd": "cat(var_dic_list()) "
    }
   },
   "types_to_exclude": [
    "module",
    "function",
    "builtin_function_or_method",
    "instance",
    "_Feature"
   ],
   "window_display": false
  }
 },
 "nbformat": 4,
 "nbformat_minor": 2
}
